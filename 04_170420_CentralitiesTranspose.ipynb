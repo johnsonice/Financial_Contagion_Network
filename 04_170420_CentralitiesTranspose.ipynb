{
 "cells": [
  {
   "cell_type": "code",
   "execution_count": 1,
   "metadata": {},
   "outputs": [],
   "source": [
    "import sys \n",
    "import os\n",
    "lib_path = './lib'\n",
    "sys.path.insert(0, lib_path)     ## add lib path to sys path \n",
    "import pandas as pd\n",
    "import MultiContagion as mc\n",
    "import igraph\n",
    "import random\n",
    "import numpy as np\n",
    "from matplotlib import pylab as plt\n",
    "import scipy.stats\n",
    "import copy\n",
    "from scipy.sparse import linalg as LA\n",
    "#import powerlaw\n",
    "%matplotlib inline"
   ]
  },
  {
   "cell_type": "code",
   "execution_count": 2,
   "metadata": {},
   "outputs": [],
   "source": [
    "year = 2016"
   ]
  },
  {
   "cell_type": "code",
   "execution_count": 3,
   "metadata": {},
   "outputs": [],
   "source": [
    "import_path = \"./data/adjacency_matrix/\"\n",
    "export_path = './results/centralities/'"
   ]
  },
  {
   "cell_type": "code",
   "execution_count": 4,
   "metadata": {},
   "outputs": [],
   "source": [
    "#import the aggregate adjacency matrix\n",
    "aggregate_am = np.genfromtxt (import_path + 'AM4_all_nodes_aggregate'+str(year)+'.csv', delimiter=\",\")\n",
    "df_names = pd.read_csv(import_path+ 'all_country_name4.csv', header=None)\n",
    "names = list(df_names[0])\n",
    "Aggregate_g = igraph.Graph.Weighted_Adjacency(list(np.transpose(aggregate_am)))\n",
    "Aggregate_g.vs[\"name\"] = copy.deepcopy(names)"
   ]
  },
  {
   "cell_type": "code",
   "execution_count": 5,
   "metadata": {},
   "outputs": [],
   "source": [
    "#Import the adjacency matrix and make graphs of all the layers.\n",
    "cdis_equity_am = np.genfromtxt (import_path +'AM4_all_nodesCDIS-equity'+str(year)+'.csv', delimiter=\",\")\n",
    "cdis_equity_g = igraph.Graph.Weighted_Adjacency(list(np.transpose(cdis_equity_am)))\n",
    "cdis_equity_g.vs[\"name\"] = copy.deepcopy(names)\n",
    "\n",
    "cdis_debt_am = np.genfromtxt (import_path +'AM4_all_nodesCDIS-debt'+str(year)+'.csv', delimiter=\",\")\n",
    "cdis_debt_g = igraph.Graph.Weighted_Adjacency(list(np.transpose(cdis_debt_am)))\n",
    "cdis_debt_g.vs[\"name\"] = copy.deepcopy(names)\n",
    "\n",
    "cpis_equity_am = np.genfromtxt (import_path +'AM4_all_nodesCPIS-equity'+str(year)+'.csv', delimiter=\",\")\n",
    "cpis_equity_g = igraph.Graph.Weighted_Adjacency(list(np.transpose(cpis_equity_am)))\n",
    "cpis_equity_g.vs[\"name\"] = copy.deepcopy(names)\n",
    "\n",
    "cpis_debt_am = np.genfromtxt (import_path +'AM4_all_nodesCPIS-debt'+str(year)+'.csv', delimiter=\",\")\n",
    "cpis_debt_g = igraph.Graph.Weighted_Adjacency(list(np.transpose(cpis_debt_am)))\n",
    "cpis_debt_g.vs[\"name\"] = copy.deepcopy(names)\n",
    "\n",
    "bis_am = np.genfromtxt (import_path +'AM4_all_nodesBIS'+str(year)+'.csv', delimiter=\",\")\n",
    "bis_g = igraph.Graph.Weighted_Adjacency(list(np.transpose(bis_am)))\n",
    "bis_g.vs[\"name\"] = copy.deepcopy(names)"
   ]
  },
  {
   "cell_type": "code",
   "execution_count": 6,
   "metadata": {},
   "outputs": [],
   "source": [
    "G_list = [cdis_equity_g, cdis_debt_g, cpis_equity_g, cpis_debt_g, bis_g ]"
   ]
  },
  {
   "cell_type": "code",
   "execution_count": 7,
   "metadata": {},
   "outputs": [],
   "source": [
    "AM_list = [np.transpose(cdis_equity_am), np.transpose(cdis_debt_am), np.transpose(cpis_equity_am), np.transpose(cpis_debt_am), np.transpose(bis_am) ]"
   ]
  },
  {
   "cell_type": "code",
   "execution_count": 8,
   "metadata": {},
   "outputs": [],
   "source": [
    "In_list = [ np.array(g.strength(mode =\"IN\", weights= g.es[\"weight\"])) for g in G_list]\n",
    "Out_list = [ np.array(g.strength(mode =\"OUT\", weights= g.es[\"weight\"])) for g in G_list]"
   ]
  },
  {
   "cell_type": "code",
   "execution_count": 9,
   "metadata": {},
   "outputs": [],
   "source": [
    "def make_supra_coup(list_adj, list_vector):\n",
    "    \"Takes a list of adjacency matrix and list of vectors to use as coupling for layers\"\n",
    "    n_layers = len(list_adj)\n",
    "    dim = list_adj[0].shape[0]\n",
    "    sup_list = []\n",
    "    for i in range(n_layers):\n",
    "        row = []\n",
    "        for j in range(n_layers):\n",
    "            if i == j:\n",
    "                row.append(list_adj[i])\n",
    "            else:\n",
    "                row.append(np.diag(list_vector[j]))\n",
    "        sup_list.append(row)\n",
    "    return np.bmat(sup_list)"
   ]
  },
  {
   "cell_type": "markdown",
   "metadata": {},
   "source": [
    "# For real"
   ]
  },
  {
   "cell_type": "code",
   "execution_count": 10,
   "metadata": {},
   "outputs": [],
   "source": [
    "supra_adj = make_supra_coup(AM_list, In_list)\n",
    "G_supra = igraph.Graph.Weighted_Adjacency(supra_adj.tolist())\n",
    "complete_multi_pr = G_supra.personalized_pagerank(weights = G_supra.es[\"weight\"])"
   ]
  },
  {
   "cell_type": "code",
   "execution_count": 11,
   "metadata": {},
   "outputs": [],
   "source": [
    "G_supra = igraph.Graph.Weighted_Adjacency(supra_adj.tolist())"
   ]
  },
  {
   "cell_type": "code",
   "execution_count": 12,
   "metadata": {},
   "outputs": [],
   "source": [
    "G_supra = igraph.Graph.Weighted_Adjacency(supra_adj.tolist())"
   ]
  },
  {
   "cell_type": "code",
   "execution_count": 13,
   "metadata": {},
   "outputs": [
    {
     "data": {
      "text/plain": [
       "(True, True)"
      ]
     },
     "execution_count": 13,
     "metadata": {},
     "output_type": "execute_result"
    }
   ],
   "source": [
    "G_supra.is_weighted(), G_supra.is_directed()"
   ]
  },
  {
   "cell_type": "code",
   "execution_count": 14,
   "metadata": {},
   "outputs": [],
   "source": [
    "def save_centrality(y, namefile, namecent , country, cent):\n",
    "    f = open(export_path+namefile+str(y) +\".csv\", \"w\")\n",
    "    f.write(\"Country,\"+namecent+\"\\n\")\n",
    "    n = len(country)\n",
    "    for i in range(n):\n",
    "        f.write(str(country[i]) + \",\" + str(cent[i])+ \"\\n\")\n",
    "    f.close()"
   ]
  },
  {
   "cell_type": "markdown",
   "metadata": {},
   "source": [
    "## PageRank"
   ]
  },
  {
   "cell_type": "code",
   "execution_count": 15,
   "metadata": {},
   "outputs": [],
   "source": [
    "pr_agg = Aggregate_g.personalized_pagerank(weights = Aggregate_g.es[\"weight\"], damping = 0.85)\n",
    "node_names = np.array(copy.deepcopy(names))\n",
    "inds = np.array(pr_agg).argsort()[::-1][:]\n",
    "sort_names = node_names[inds]\n",
    "pr_agg_ord = np.array(pr_agg)[inds]"
   ]
  },
  {
   "cell_type": "code",
   "execution_count": 16,
   "metadata": {},
   "outputs": [
    {
     "data": {
      "text/plain": [
       "array(['United States', 'United Kingdom', 'Luxembourg', 'Netherlands',\n",
       "       'France', 'Cayman Islands', 'Germany', 'Japan', 'Switzerland',\n",
       "       'Ireland', 'Canada', 'China  P.R.: Hong Kong',\n",
       "       'China  P.R.: Mainland', 'Italy', 'Spain', 'Australia', 'Belgium',\n",
       "       'Singapore', 'Bermuda', 'India', 'Brazil', 'Sweden', 'Austria',\n",
       "       'Korea  Republic of', 'Mexico', 'Virgin Islands  British',\n",
       "       'Russian Federation', 'Jersey', 'Denmark',\n",
       "       'Taiwan Province of China'], dtype='<U36')"
      ]
     },
     "execution_count": 16,
     "metadata": {},
     "output_type": "execute_result"
    }
   ],
   "source": [
    "sort_names[:30]"
   ]
  },
  {
   "cell_type": "code",
   "execution_count": 17,
   "metadata": {},
   "outputs": [],
   "source": [
    "save_centrality(year, \"Agg_PageRankT\", \"PageRank\", sort_names, pr_agg_ord)"
   ]
  },
  {
   "cell_type": "code",
   "execution_count": 18,
   "metadata": {},
   "outputs": [],
   "source": [
    "def get_pagerank_list(G, n_layers = 5, names= names, r = 0.85):\n",
    "    pr = G.personalized_pagerank(weights = G.es[\"weight\"], damping = r)\n",
    "    multi_pr = []\n",
    "    n_nodes = int((len(G.degree()))/5)\n",
    "    multi_pr = []\n",
    "    for i in range(n_nodes):\n",
    "        cent = 0\n",
    "        for k in range(n_layers):\n",
    "            cent += pr[i + n_nodes*k] \n",
    "        multi_pr.append(cent)\n",
    "    node_names = np.array(copy.deepcopy(names))\n",
    "    inds = np.array(multi_pr).argsort()[::-1][:]\n",
    "    sort_names_multi_pr = node_names[inds]\n",
    "    multi_sort_pr = np.array(multi_pr)[inds]\n",
    "    return sort_names_multi_pr, multi_sort_pr"
   ]
  },
  {
   "cell_type": "code",
   "execution_count": 19,
   "metadata": {},
   "outputs": [],
   "source": [
    "n_pr, num_pr = get_pagerank_list(G_supra, r = 0.85)"
   ]
  },
  {
   "cell_type": "code",
   "execution_count": 20,
   "metadata": {},
   "outputs": [
    {
     "data": {
      "text/plain": [
       "array(['United States', 'United Kingdom', 'France', 'Switzerland',\n",
       "       'Luxembourg', 'Netherlands', 'India', 'Ireland', 'Cayman Islands',\n",
       "       'Spain', 'Germany', 'China  P.R.: Mainland', 'Australia',\n",
       "       'China  P.R.: Hong Kong', 'Italy', 'Canada', 'Japan',\n",
       "       'Virgin Islands  British', 'Brazil', 'Indonesia', 'Belgium',\n",
       "       'Peru', 'Curacao', 'Turkey', 'Singapore', 'Mexico', 'South Africa',\n",
       "       'Korea  Republic of', 'Taiwan Province of China', 'Sweden'],\n",
       "      dtype='<U36')"
      ]
     },
     "execution_count": 20,
     "metadata": {},
     "output_type": "execute_result"
    }
   ],
   "source": [
    "n_pr, num_pr = get_pagerank_list(G_supra, r = 0.85)\n",
    "n_pr[:30]"
   ]
  },
  {
   "cell_type": "code",
   "execution_count": 21,
   "metadata": {},
   "outputs": [],
   "source": [
    "def make_supra_coup2(list_adj, list_vector):\n",
    "    \"Takes a list of adjacency matrix and list of vectors to use as coupling for layers\"\n",
    "    n_layers = len(list_adj)\n",
    "    dim = list_adj[0].shape[0]\n",
    "    sup_list = []\n",
    "    for i in range(n_layers):\n",
    "        row = []\n",
    "        for j in range(n_layers):\n",
    "            if i == j:\n",
    "                row.append(list_adj[i])\n",
    "            else:\n",
    "                row.append(np.diag(list_vector[i]))\n",
    "        sup_list.append(row)\n",
    "    return np.bmat(sup_list)"
   ]
  },
  {
   "cell_type": "code",
   "execution_count": 22,
   "metadata": {},
   "outputs": [],
   "source": [
    "supra_adj2 = make_supra_coup2(AM_list, In_list)\n",
    "G_supra2 = igraph.Graph.Weighted_Adjacency(supra_adj2.tolist())"
   ]
  },
  {
   "cell_type": "code",
   "execution_count": 23,
   "metadata": {},
   "outputs": [],
   "source": [
    "n_pr2, num_pr2 = get_pagerank_list(G_supra2)"
   ]
  },
  {
   "cell_type": "code",
   "execution_count": 24,
   "metadata": {},
   "outputs": [],
   "source": [
    "n_pr2;"
   ]
  },
  {
   "cell_type": "code",
   "execution_count": 25,
   "metadata": {},
   "outputs": [
    {
     "data": {
      "text/plain": [
       "array(['United States', 'United Kingdom', 'France', 'Luxembourg',\n",
       "       'Netherlands', 'Ireland', 'Switzerland', 'Germany', 'Japan',\n",
       "       'Cayman Islands', 'India', 'Australia', 'Spain', 'Brazil',\n",
       "       'China  P.R.: Hong Kong', 'China  P.R.: Mainland', 'Canada',\n",
       "       'Italy', 'Belgium', 'Virgin Islands  British', 'Mexico',\n",
       "       'Indonesia', 'Turkey', 'Bahrain  Kingdom of', 'Panama', 'Sweden',\n",
       "       'Curacao', 'Singapore', 'Malaysia', 'Russian Federation'],\n",
       "      dtype='<U36')"
      ]
     },
     "execution_count": 25,
     "metadata": {},
     "output_type": "execute_result"
    }
   ],
   "source": [
    "n_pr2, num_pr2 = get_pagerank_list(G_supra2, r = 0.85)\n",
    "n_pr2[:30]"
   ]
  },
  {
   "cell_type": "code",
   "execution_count": 26,
   "metadata": {},
   "outputs": [],
   "source": [
    "save_centrality(year, \"MultCoupCashFlow_PageRankT\", \"PageRank centrality\", n_pr, num_pr)"
   ]
  },
  {
   "cell_type": "code",
   "execution_count": 27,
   "metadata": {},
   "outputs": [],
   "source": [
    "save_centrality(year, \"MultCoupRiskFlow_PageRankT\", \"PageRank centrality\", n_pr2, num_pr2)"
   ]
  },
  {
   "cell_type": "markdown",
   "metadata": {
    "collapsed": true
   },
   "source": [
    "## Eigenvector"
   ]
  },
  {
   "cell_type": "code",
   "execution_count": 28,
   "metadata": {},
   "outputs": [],
   "source": [
    "def get_eigenvector_list(G, n_layers = 5, names= names):\n",
    "    pr = G.eigenvector_centrality(weights = G.es[\"weight\"])\n",
    "    multi_pr = []\n",
    "    n_nodes = int((len(G.degree()))/5)\n",
    "    multi_pr = []\n",
    "    for i in range(n_nodes):\n",
    "        cent = 0\n",
    "        for k in range(n_layers):\n",
    "            cent += pr[i + n_nodes*k] \n",
    "        multi_pr.append(cent)\n",
    "    node_names = np.array(copy.deepcopy(names))\n",
    "    inds = np.array(multi_pr).argsort()[::-1][:]\n",
    "    sort_names_multi_pr = node_names[inds]\n",
    "    multi_sort_pr = np.array(multi_pr)[inds]\n",
    "    return sort_names_multi_pr, multi_sort_pr"
   ]
  },
  {
   "cell_type": "code",
   "execution_count": 29,
   "metadata": {},
   "outputs": [
    {
     "name": "stderr",
     "output_type": "stream",
     "text": [
      "D:\\data\\chengyu\\_GFF\\lib\\site-packages\\ipykernel_launcher.py:2: RuntimeWarning: Weighted directed graph in eigenvector centrality at src\\centrality.c:362\n",
      "  \n"
     ]
    }
   ],
   "source": [
    "n_ei, num_ei = get_eigenvector_list(G_supra)\n",
    "n_ei2, num_ei2 = get_eigenvector_list(G_supra2)"
   ]
  },
  {
   "cell_type": "code",
   "execution_count": 30,
   "metadata": {},
   "outputs": [],
   "source": [
    "n_ei2;"
   ]
  },
  {
   "cell_type": "code",
   "execution_count": 31,
   "metadata": {},
   "outputs": [],
   "source": [
    "save_centrality(year, \"MultCoupCashFlow_EigenvectorT\", \"Eigenvector centrality\", n_ei, num_ei)\n",
    "save_centrality(year, \"MultCoupRiskFlow_EigenvectorT\", \"Eigenvector centrality\", n_ei2, num_ei2)"
   ]
  },
  {
   "cell_type": "markdown",
   "metadata": {},
   "source": [
    "## Hubs and Auth"
   ]
  },
  {
   "cell_type": "code",
   "execution_count": 32,
   "metadata": {},
   "outputs": [],
   "source": [
    "def G_list_hub(G_adj_list):\n",
    "    G_hub = []\n",
    "    for g in G_adj_list:\n",
    "        new = np.dot(g, g.transpose())\n",
    "        G_hub.append(new)   \n",
    "    return G_hub"
   ]
  },
  {
   "cell_type": "code",
   "execution_count": 33,
   "metadata": {},
   "outputs": [],
   "source": [
    "def G_list_auth(G_adj_list):\n",
    "    G_hub = []\n",
    "    for g in G_adj_list:\n",
    "        new = np.dot( g.transpose(), g)\n",
    "        G_hub.append(new)   \n",
    "    return G_hub"
   ]
  },
  {
   "cell_type": "code",
   "execution_count": 34,
   "metadata": {},
   "outputs": [],
   "source": [
    "def hub_auth_diag(Coup_list):\n",
    "    coup = []\n",
    "    for c in Coup_list:\n",
    "        coup.append(c*c)\n",
    "    return coup"
   ]
  },
  {
   "cell_type": "code",
   "execution_count": 35,
   "metadata": {},
   "outputs": [],
   "source": [
    "G_supra_hub = make_supra_coup(G_list_hub(AM_list), hub_auth_diag(In_list))\n",
    "G_supra_auth = make_supra_coup(G_list_auth(AM_list), hub_auth_diag(In_list))"
   ]
  },
  {
   "cell_type": "code",
   "execution_count": 36,
   "metadata": {},
   "outputs": [
    {
     "data": {
      "text/plain": [
       "(1, 1065)"
      ]
     },
     "execution_count": 36,
     "metadata": {},
     "output_type": "execute_result"
    }
   ],
   "source": [
    "G_supra_hub[0].shape"
   ]
  },
  {
   "cell_type": "code",
   "execution_count": 37,
   "metadata": {},
   "outputs": [],
   "source": [
    "def get_hub_list(AM, n_layers = 5, names= names):\n",
    "    hub_eig = LA.eigs(AM, k=1, which='LM')[1]\n",
    "    multi_pr = []\n",
    "    #print hub_eig[0]\n",
    "    n_nodes = int((AM[0].shape[1])/5.)\n",
    "    multi_pr = []\n",
    "    for i in range(n_nodes):\n",
    "        cent = 0\n",
    "        for k in range(n_layers):\n",
    "            \n",
    "            cent += abs(hub_eig[i + n_nodes*k])\n",
    "        \n",
    "        multi_pr.append(cent[0])\n",
    "    \n",
    "    node_names = np.array(copy.deepcopy(names))\n",
    "    inds = np.array(multi_pr).argsort()[::-1][:]\n",
    "    sort_names_multi_pr = node_names[inds]\n",
    "    multi_sort_pr = np.array(multi_pr)[inds]\n",
    "    return sort_names_multi_pr, multi_sort_pr"
   ]
  },
  {
   "cell_type": "code",
   "execution_count": 38,
   "metadata": {},
   "outputs": [],
   "source": [
    "n_hub, num_hub = get_hub_list(G_supra_hub)\n",
    "n_auth, num_auth = get_hub_list(G_supra_auth)"
   ]
  },
  {
   "cell_type": "code",
   "execution_count": 39,
   "metadata": {},
   "outputs": [],
   "source": [
    "n_auth, num_auth = get_hub_list(G_supra_auth)"
   ]
  },
  {
   "cell_type": "code",
   "execution_count": 40,
   "metadata": {},
   "outputs": [
    {
     "data": {
      "text/plain": [
       "array(['United States', 'United Kingdom', 'Netherlands', 'France',\n",
       "       'Luxembourg', 'Germany', 'Ireland', 'Cayman Islands',\n",
       "       'Switzerland', 'Japan', 'Italy', 'Belgium', 'Canada', 'Australia',\n",
       "       'Spain', 'China  P.R.: Hong Kong', 'China  P.R.: Mainland',\n",
       "       'Brazil', 'Bermuda', 'Singapore'], dtype='<U36')"
      ]
     },
     "execution_count": 40,
     "metadata": {},
     "output_type": "execute_result"
    }
   ],
   "source": [
    "n_auth[:20]"
   ]
  },
  {
   "cell_type": "code",
   "execution_count": 41,
   "metadata": {},
   "outputs": [
    {
     "data": {
      "text/plain": [
       "array(['United States', 'Luxembourg', 'Netherlands', 'United Kingdom',\n",
       "       'Germany', 'Japan', 'France', 'China  P.R.: Hong Kong',\n",
       "       'Switzerland', 'Bermuda', 'Belgium', 'Cayman Islands', 'Canada',\n",
       "       'Italy', 'Ireland', 'Norway', 'Jersey', 'Singapore', 'Australia',\n",
       "       'China  P.R.: Mainland'], dtype='<U36')"
      ]
     },
     "execution_count": 41,
     "metadata": {},
     "output_type": "execute_result"
    }
   ],
   "source": [
    "n_hub[:20]"
   ]
  },
  {
   "cell_type": "code",
   "execution_count": 42,
   "metadata": {},
   "outputs": [],
   "source": [
    "#save_centrality(year, \"MultCoupCashFlow_Hub\", \"Hub Score\", n_hub, num_hub)\n",
    "#save_centrality(year, \"MultCoupCashFlow_Auth\", \"Authority Score\", n_auth, num_auth)"
   ]
  },
  {
   "cell_type": "markdown",
   "metadata": {},
   "source": [
    "### other coup"
   ]
  },
  {
   "cell_type": "code",
   "execution_count": 43,
   "metadata": {},
   "outputs": [],
   "source": [
    "G_supra_hub2 = make_supra_coup2(G_list_hub(AM_list), hub_auth_diag(In_list))\n",
    "G_supra_auth2 = make_supra_coup2(G_list_auth(AM_list), hub_auth_diag(In_list))"
   ]
  },
  {
   "cell_type": "code",
   "execution_count": 44,
   "metadata": {},
   "outputs": [],
   "source": [
    "n_hub2, num_hub2 = get_hub_list(G_supra_hub2)\n",
    "n_auth2, num_auth2 = get_hub_list(G_supra_auth2)"
   ]
  },
  {
   "cell_type": "code",
   "execution_count": 45,
   "metadata": {},
   "outputs": [],
   "source": [
    "#n_hub2, num_hub2 = get_eigenvector_list(igraph.Graph.Weighted_Adjacency(G_supra_hub2.tolist()))\n",
    "#n_auth2, num_auth2 = get_eigenvector_list(igraph.Graph.Weighted_Adjacency(G_supra_auth2.tolist()))"
   ]
  },
  {
   "cell_type": "code",
   "execution_count": 46,
   "metadata": {},
   "outputs": [
    {
     "data": {
      "text/plain": [
       "array(['United States', 'United Kingdom', 'Netherlands', 'France',\n",
       "       'Germany', 'Cayman Islands', 'Luxembourg', 'Ireland', 'Japan',\n",
       "       'Switzerland', 'Italy', 'Australia', 'Canada', 'Belgium', 'Spain',\n",
       "       'China  P.R.: Hong Kong', 'Sweden', 'China  P.R.: Mainland',\n",
       "       'Brazil', 'Bermuda', 'Singapore', 'Austria', 'Korea  Republic of',\n",
       "       'Mexico', 'Jersey', 'Denmark', 'Norway', 'India',\n",
       "       'Virgin Islands  British', 'Finland'], dtype='<U36')"
      ]
     },
     "execution_count": 46,
     "metadata": {},
     "output_type": "execute_result"
    }
   ],
   "source": [
    "n_auth2[:30]"
   ]
  },
  {
   "cell_type": "code",
   "execution_count": 47,
   "metadata": {},
   "outputs": [
    {
     "data": {
      "text/plain": [
       "array(['United States', 'Luxembourg', 'Japan', 'United Kingdom',\n",
       "       'Netherlands', 'Germany', 'France', 'China  P.R.: Hong Kong',\n",
       "       'Switzerland', 'Bermuda', 'Canada', 'Cayman Islands', 'Belgium',\n",
       "       'Italy', 'Norway', 'Singapore', 'Australia', 'Ireland', 'Spain',\n",
       "       'China  P.R.: Mainland', 'Jersey', 'Sweden', 'Guernsey', 'Denmark',\n",
       "       'South Africa', 'Austria', 'Finland', 'Gibraltar',\n",
       "       'Korea  Republic of', 'Saudi Arabia'], dtype='<U36')"
      ]
     },
     "execution_count": 47,
     "metadata": {},
     "output_type": "execute_result"
    }
   ],
   "source": [
    "n_hub2[:30]"
   ]
  },
  {
   "cell_type": "code",
   "execution_count": 48,
   "metadata": {},
   "outputs": [],
   "source": [
    "save_centrality(year, \"MultCoupRiskFlow_HubT\", \"Hub Score\", n_hub2, num_hub2)\n",
    "save_centrality(year, \"MultCoupRiskFlow_AuthT\", \"Authority Score\", n_auth2, num_auth2)"
   ]
  },
  {
   "cell_type": "code",
   "execution_count": 49,
   "metadata": {},
   "outputs": [
    {
     "data": {
      "text/plain": [
       "array([1.91177565e+00, 1.30278977e-02, 8.30098336e-03, 8.01173253e-03,\n",
       "       7.49938244e-03, 6.69661777e-03, 5.35692687e-03, 4.81521296e-03,\n",
       "       3.52227223e-03, 2.44480141e-03, 2.26144665e-03, 2.20983673e-03,\n",
       "       2.19272982e-03, 2.12481683e-03, 1.75667614e-03, 1.32512502e-03,\n",
       "       1.30904372e-03, 1.21826042e-03, 1.06248994e-03, 1.04083922e-03])"
      ]
     },
     "execution_count": 49,
     "metadata": {},
     "output_type": "execute_result"
    }
   ],
   "source": [
    "num_hub2 [:20]"
   ]
  }
 ],
 "metadata": {
  "anaconda-cloud": {},
  "kernelspec": {
   "display_name": "Python 3",
   "language": "python",
   "name": "python3"
  },
  "language_info": {
   "codemirror_mode": {
    "name": "ipython",
    "version": 3
   },
   "file_extension": ".py",
   "mimetype": "text/x-python",
   "name": "python",
   "nbconvert_exporter": "python",
   "pygments_lexer": "ipython3",
   "version": "3.6.6"
  }
 },
 "nbformat": 4,
 "nbformat_minor": 1
}
