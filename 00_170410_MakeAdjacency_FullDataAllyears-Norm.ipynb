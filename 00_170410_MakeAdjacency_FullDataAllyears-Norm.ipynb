{
 "cells": [
  {
   "cell_type": "code",
   "execution_count": 23,
   "metadata": {},
   "outputs": [],
   "source": [
    "import sys \n",
    "import os\n",
    "lib_path = './lib'\n",
    "sys.path.insert(0, lib_path)     ## add lib path to sys path \n",
    "import pandas as pd\n",
    "import MultiContagion as mc\n",
    "import igraph\n",
    "import random\n",
    "import numpy as np\n",
    "from matplotlib import pylab as plt\n",
    "import scipy.stats\n",
    "import copy\n",
    "#import powerlaw\n",
    "%matplotlib inline"
   ]
  },
  {
   "cell_type": "markdown",
   "metadata": {},
   "source": [
    "First define some local folder path"
   ]
  },
  {
   "cell_type": "code",
   "execution_count": 54,
   "metadata": {},
   "outputs": [],
   "source": [
    "## First define some local folder path\n",
    "data_path = './data/0_CPIS_CDIS_BIS_USTIC_merged_fixed4_12102017.dta'\n",
    "inflation_data_path = \"./data/USA-PCPIE.csv\"\n",
    "csv_files_path = './data/csv_files'\n",
    "export_path_csv = './results/csv_structuralmeasurements/'\n",
    "adj_matrix_path = './data/adjacency_matrix/'"
   ]
  },
  {
   "cell_type": "code",
   "execution_count": 9,
   "metadata": {},
   "outputs": [
    {
     "data": {
      "text/html": [
       "<div>\n",
       "<style scoped>\n",
       "    .dataframe tbody tr th:only-of-type {\n",
       "        vertical-align: middle;\n",
       "    }\n",
       "\n",
       "    .dataframe tbody tr th {\n",
       "        vertical-align: top;\n",
       "    }\n",
       "\n",
       "    .dataframe thead th {\n",
       "        text-align: right;\n",
       "    }\n",
       "</style>\n",
       "<table border=\"1\" class=\"dataframe\">\n",
       "  <thead>\n",
       "    <tr style=\"text-align: right;\">\n",
       "      <th></th>\n",
       "      <th>countrycode</th>\n",
       "      <th>counterpart_code</th>\n",
       "      <th>country</th>\n",
       "      <th>counterpart</th>\n",
       "      <th>year</th>\n",
       "      <th>CDIS_IADE</th>\n",
       "      <th>CDIS_IADD</th>\n",
       "      <th>CDIS_IAD</th>\n",
       "      <th>CPIS_IAP</th>\n",
       "      <th>CPIS_IAPE</th>\n",
       "      <th>CPIS_IAPD</th>\n",
       "      <th>loans_dep</th>\n",
       "      <th>total_claims</th>\n",
       "    </tr>\n",
       "  </thead>\n",
       "  <tbody>\n",
       "    <tr>\n",
       "      <th>64495</th>\n",
       "      <td>512.0</td>\n",
       "      <td>112.0</td>\n",
       "      <td>Afghanistan, Islamic Republic of</td>\n",
       "      <td>United Kingdom</td>\n",
       "      <td>2013.0</td>\n",
       "      <td>0.000000</td>\n",
       "      <td>0.0</td>\n",
       "      <td>0.000000</td>\n",
       "      <td>0.0</td>\n",
       "      <td>0.0</td>\n",
       "      <td>0.0</td>\n",
       "      <td>964.0</td>\n",
       "      <td>964.000000</td>\n",
       "    </tr>\n",
       "    <tr>\n",
       "      <th>64649</th>\n",
       "      <td>512.0</td>\n",
       "      <td>542.0</td>\n",
       "      <td>Afghanistan, Islamic Republic of</td>\n",
       "      <td>Korea, Republic of</td>\n",
       "      <td>2009.0</td>\n",
       "      <td>4.050179</td>\n",
       "      <td>0.0</td>\n",
       "      <td>4.050179</td>\n",
       "      <td>0.0</td>\n",
       "      <td>0.0</td>\n",
       "      <td>0.0</td>\n",
       "      <td>13.0</td>\n",
       "      <td>17.050179</td>\n",
       "    </tr>\n",
       "    <tr>\n",
       "      <th>64650</th>\n",
       "      <td>512.0</td>\n",
       "      <td>542.0</td>\n",
       "      <td>Afghanistan, Islamic Republic of</td>\n",
       "      <td>Korea, Republic of</td>\n",
       "      <td>2010.0</td>\n",
       "      <td>4.956533</td>\n",
       "      <td>0.0</td>\n",
       "      <td>4.956533</td>\n",
       "      <td>0.0</td>\n",
       "      <td>0.0</td>\n",
       "      <td>0.0</td>\n",
       "      <td>5.0</td>\n",
       "      <td>9.956533</td>\n",
       "    </tr>\n",
       "    <tr>\n",
       "      <th>64651</th>\n",
       "      <td>512.0</td>\n",
       "      <td>542.0</td>\n",
       "      <td>Afghanistan, Islamic Republic of</td>\n",
       "      <td>Korea, Republic of</td>\n",
       "      <td>2011.0</td>\n",
       "      <td>4.683440</td>\n",
       "      <td>0.0</td>\n",
       "      <td>4.683440</td>\n",
       "      <td>0.0</td>\n",
       "      <td>0.0</td>\n",
       "      <td>0.0</td>\n",
       "      <td>5.5</td>\n",
       "      <td>10.183439</td>\n",
       "    </tr>\n",
       "    <tr>\n",
       "      <th>64652</th>\n",
       "      <td>512.0</td>\n",
       "      <td>542.0</td>\n",
       "      <td>Afghanistan, Islamic Republic of</td>\n",
       "      <td>Korea, Republic of</td>\n",
       "      <td>2012.0</td>\n",
       "      <td>5.475813</td>\n",
       "      <td>0.0</td>\n",
       "      <td>5.475813</td>\n",
       "      <td>0.0</td>\n",
       "      <td>0.0</td>\n",
       "      <td>0.0</td>\n",
       "      <td>6.0</td>\n",
       "      <td>11.475813</td>\n",
       "    </tr>\n",
       "  </tbody>\n",
       "</table>\n",
       "</div>"
      ],
      "text/plain": [
       "       countrycode  counterpart_code                           country  \\\n",
       "64495        512.0             112.0  Afghanistan, Islamic Republic of   \n",
       "64649        512.0             542.0  Afghanistan, Islamic Republic of   \n",
       "64650        512.0             542.0  Afghanistan, Islamic Republic of   \n",
       "64651        512.0             542.0  Afghanistan, Islamic Republic of   \n",
       "64652        512.0             542.0  Afghanistan, Islamic Republic of   \n",
       "\n",
       "              counterpart    year  CDIS_IADE  CDIS_IADD  CDIS_IAD  CPIS_IAP  \\\n",
       "64495      United Kingdom  2013.0   0.000000        0.0  0.000000       0.0   \n",
       "64649  Korea, Republic of  2009.0   4.050179        0.0  4.050179       0.0   \n",
       "64650  Korea, Republic of  2010.0   4.956533        0.0  4.956533       0.0   \n",
       "64651  Korea, Republic of  2011.0   4.683440        0.0  4.683440       0.0   \n",
       "64652  Korea, Republic of  2012.0   5.475813        0.0  5.475813       0.0   \n",
       "\n",
       "       CPIS_IAPE  CPIS_IAPD  loans_dep  total_claims  \n",
       "64495        0.0        0.0      964.0    964.000000  \n",
       "64649        0.0        0.0       13.0     17.050179  \n",
       "64650        0.0        0.0        5.0      9.956533  \n",
       "64651        0.0        0.0        5.5     10.183439  \n",
       "64652        0.0        0.0        6.0     11.475813  "
      ]
     },
     "execution_count": 9,
     "metadata": {},
     "output_type": "execute_result"
    }
   ],
   "source": [
    "## Read data from stata file \n",
    "df = pd.read_stata(data_path )\n",
    "df = df.sort_values(by=['country'])\n",
    "#by argument to sort_index is deprecated, pls use .sort_values(by=...)\n",
    "df = df.fillna(value = 0.)\n",
    "df.head()"
   ]
  },
  {
   "cell_type": "code",
   "execution_count": 10,
   "metadata": {},
   "outputs": [
    {
     "data": {
      "text/plain": [
       "20.802333333300027"
      ]
     },
     "execution_count": 10,
     "metadata": {},
     "output_type": "execute_result"
    }
   ],
   "source": [
    "df_inflation = pd.read_csv(inflation_data_path, index_col=\"Year\")\n",
    "-df_inflation[\"Inflation\"][2009] + df_inflation[\"Inflation\"][2015]"
   ]
  },
  {
   "cell_type": "code",
   "execution_count": 11,
   "metadata": {},
   "outputs": [],
   "source": [
    "#df_inflation = df_inflation.multiply(1000)"
   ]
  },
  {
   "cell_type": "code",
   "execution_count": 12,
   "metadata": {},
   "outputs": [
    {
     "data": {
      "text/plain": [
       "238.00433333330002"
      ]
     },
     "execution_count": 12,
     "metadata": {},
     "output_type": "execute_result"
    }
   ],
   "source": [
    "df_inflation[\"Inflation\"][2015]"
   ]
  },
  {
   "cell_type": "markdown",
   "metadata": {},
   "source": [
    "**Note on unities, inflation is in billion dollars and surveys are in million dollars **"
   ]
  },
  {
   "cell_type": "markdown",
   "metadata": {},
   "source": [
    "[1] \"Country Name\"                                                                    \n",
    " [2] \"Country Code\"                                                                    \n",
    " [3] \"Counterpart Country Name\"                                                        \n",
    " [4] \"Counterpart Country Code\"                                                        \n",
    " [5] \"Time Period\"                                                                     \n",
    " [6] \"IIP Equity investment asset, millions of USD\"                                    \n",
    " [7] \"IIP Debt instrument asset, millions of USD\"                                      \n",
    " [8] \"IIP Direct investment asset, millions of USD\"                                    \n",
    " [9] \"IIP Direct investment asset between fellow enterprise, millions of USD\"          \n",
    "[10] \"IIP Total Portfolio invertment, Assets, millions of USD\"                         \n",
    "[11] \"IIP Portfolio invertment,Equity and investment fund shares, Assets, millions of \"\n",
    "\n",
    "[12] \"IIP Portfolio invertment,Debt securities, Assets, millions of USD\"               \n",
    "[13] \"BIS loans and deposit claims positions, USD\" <\\br>\n",
    "\n",
    "layers should be: 6, 7, 11, 12 and 13"
   ]
  },
  {
   "cell_type": "code",
   "execution_count": 7,
   "metadata": {},
   "outputs": [],
   "source": [
    "df;"
   ]
  },
  {
   "cell_type": "markdown",
   "metadata": {},
   "source": [
    "# CDIS Equity Layer"
   ]
  },
  {
   "cell_type": "markdown",
   "metadata": {},
   "source": [
    "## The contagion network"
   ]
  },
  {
   "cell_type": "code",
   "execution_count": 13,
   "metadata": {},
   "outputs": [],
   "source": [
    "def make_cont_net_from_survey_year_no_isolated(df, data, year):\n",
    "    country = df[\"country\"][ (df[data].notnull()) & (df[data] > 0 ) & (df[\"year\"] == year )]\n",
    "    countercountry = df[\"counterpart\"][ (df[data].notnull()) & (df[data] > 0 ) & (df[\"year\"] == year)  ]\n",
    "    survey = df[data][ (df[data].notnull()) & (df[data] > 0 ) & (df[\"year\"] == year) ]\n",
    "    edges, weight = mc.make_edge_list(countercountry,country, survey)\n",
    "    G = mc.make_graph_from_edge(edges, weight)\n",
    "    return G"
   ]
  },
  {
   "cell_type": "code",
   "execution_count": 14,
   "metadata": {},
   "outputs": [],
   "source": [
    "Year = 2016"
   ]
  },
  {
   "cell_type": "code",
   "execution_count": 15,
   "metadata": {},
   "outputs": [],
   "source": [
    "def make_graphs(y):\n",
    "    \"\"\"graphs with no isolated countries, but then dimensions between matrices dont match\"\"\"\n",
    "    G_cd_equity_15 = make_cont_net_from_survey_year_no_isolated(df, \"CDIS_IADE\", y)\n",
    "    G_cd_debt_15 = make_cont_net_from_survey_year_no_isolated(df, \"CDIS_IADD\", y)\n",
    "    G_cp_equity_15 = make_cont_net_from_survey_year_no_isolated(df, \"CPIS_IAPE\", y)\n",
    "    G_cp_debt_15 = make_cont_net_from_survey_year_no_isolated(df, \"CPIS_IAPD\", y)\n",
    "    G_bis_15 = make_cont_net_from_survey_year_no_isolated(df, \"loans_dep\", y)\n",
    "    G_15_list = [G_cd_equity_15, G_cd_debt_15, G_cp_equity_15, G_cp_debt_15, G_bis_15  ]\n",
    "    G_names = [\"CDIS_equity\", \"CDIS_debt\", \"CPIS_equity\", \"CPIS_debt\", \"BIS\" ]\n",
    "    G_adjacency_15 = []\n",
    "    \n",
    "    for g in G_15_list:\n",
    "        G_adjacency_15.append(np.array((g.get_adjacency(attribute= \"weight\")).data))\n",
    "    \n",
    "    return G_15_list, G_names, G_adjacency_15#, G_agg_2015"
   ]
  },
  {
   "cell_type": "code",
   "execution_count": 16,
   "metadata": {},
   "outputs": [],
   "source": [
    "def make_agg_graph_local(y):\n",
    "    G_cd_equity_15 = mc.make_cont_net_from_survey_year(df, \"CDIS_IADE\", y)\n",
    "    G_cd_debt_15 = mc.make_cont_net_from_survey_year(df, \"CDIS_IADD\", y)\n",
    "    G_cp_equity_15 = mc.make_cont_net_from_survey_year(df, \"CPIS_IAPE\",y)\n",
    "    G_cp_debt_15 = mc.make_cont_net_from_survey_year(df, \"CPIS_IAPD\", y)\n",
    "    G_bis_15 = mc.make_cont_net_from_survey_year(df, \"loans_dep\", y)\n",
    "    G_15_list = [G_cd_equity_15, G_cd_debt_15, G_cp_equity_15, G_cp_debt_15, G_bis_15  ]\n",
    "    G_adjacency_15 = []\n",
    "    for g in G_15_list:\n",
    "        G_adjacency_15.append(np.array((g.get_adjacency(attribute= \"weight\")).data))\n",
    "\n",
    "    AM_agg_2015 = G_adjacency_15[0] + G_adjacency_15[1] + G_adjacency_15[2] + G_adjacency_15[3] + G_adjacency_15[4]\n",
    "    G_agg_2015 = igraph.Graph.Weighted_Adjacency(AM_agg_2015.tolist(), attr= \"weight\")\n",
    "    \n",
    "    return G_agg_2015, AM_agg_2015"
   ]
  },
  {
   "cell_type": "code",
   "execution_count": 17,
   "metadata": {},
   "outputs": [],
   "source": [
    "G_list, G_nm, G_adj = make_graphs(Year)\n",
    "G_agg, G_adj_agg = make_agg_graph_local(Year)"
   ]
  },
  {
   "cell_type": "code",
   "execution_count": 18,
   "metadata": {},
   "outputs": [
    {
     "data": {
      "text/plain": [
       "(212, 212)"
      ]
     },
     "execution_count": 18,
     "metadata": {},
     "output_type": "execute_result"
    }
   ],
   "source": [
    "len(G_adj[2][0]) # we excluded some nodes\n",
    "len( G_adj_agg), len(G_adj_agg[0])"
   ]
  },
  {
   "cell_type": "code",
   "execution_count": 19,
   "metadata": {},
   "outputs": [],
   "source": [
    "dict_survey_names = {0: \"CDIS-equity\", 1: \"CDIS-debt\",2: \"CPIS-equity\",3: \"CPIS-debt\",4: \"BIS\"}"
   ]
  },
  {
   "cell_type": "code",
   "execution_count": 31,
   "metadata": {},
   "outputs": [],
   "source": [
    "name = \"AM4_no_isolated\"\n",
    "for y in range(2008,2017):\n",
    "    G_list, G_nm, G_adj = make_graphs(y)\n",
    "    for i in range(5):\n",
    "        survey_name = dict_survey_names[i]\n",
    "        np.savetxt(os.path.join(csv_files_path,name+survey_name+str(y)+\".csv\"), G_adj[i], delimiter=\",\")"
   ]
  },
  {
   "cell_type": "code",
   "execution_count": 41,
   "metadata": {},
   "outputs": [
    {
     "data": {
      "text/plain": [
       "array([[ True,  True,  True, ...,  True,  True,  True],\n",
       "       [ True,  True,  True, ...,  True,  True,  True],\n",
       "       [ True,  True,  True, ...,  True,  True,  True],\n",
       "       ...,\n",
       "       [ True,  True,  True, ...,  True,  True,  True],\n",
       "       [ True,  True,  True, ...,  True,  True,  True],\n",
       "       [ True,  True,  True, ...,  True,  True,  True]])"
      ]
     },
     "execution_count": 41,
     "metadata": {},
     "output_type": "execute_result"
    }
   ],
   "source": [
    "## double check, see if save and load yield the same matrix \n",
    "my_data2 = np.genfromtxt(os.path.join(csv_files_path,'AM4_no_isolatedCDIS-equity2016.csv'), delimiter=',')\n",
    "G_adj[0] == my_data2"
   ]
  },
  {
   "cell_type": "markdown",
   "metadata": {},
   "source": [
    "### Save basic measurments"
   ]
  },
  {
   "cell_type": "code",
   "execution_count": 45,
   "metadata": {},
   "outputs": [],
   "source": [
    "#export_path_csv = \"csv_structuralmeasurements/\"\n",
    "\n",
    "def save_basic_measurements(y, list_of_graphs, names_of_graphs, exp_path=export_path_csv):\n",
    "    '''Saves into a csv file the basic structural measurements of list of graphs\n",
    "    Args:\n",
    "        y(int): integer used to name the file\n",
    "        list_of_graphs(list): list contaning graph type elements\n",
    "        names_of_graphs(list): list containing the names of the graphs\n",
    "    '''\n",
    "    f = open(exp_path + \"monoplex_basic_struc_measures\"+ str(y) +\".csv\"\\\n",
    "            , \"w\")\n",
    "    f.write(\"network,diameter (unweighted-directed),density(unweighted-directed),\\\n",
    "            mean geodesic distance(unweighted-directed), \\\n",
    "            reciprocity(unweighted-directed),\\\n",
    "            global clustering(unweighted-undirected),\\\n",
    "            average clustering (unweighted-undirected),\\\n",
    "            sum of weights\\n\")\n",
    "    if len(list_of_graphs) != len(names_of_graphs):\n",
    "        print (\"warning dimention of lists do not match\")\n",
    "    n = len(list_of_graphs)\n",
    "    for i in range(n):\n",
    "        f.write(names_of_graphs[i] + \",\")\n",
    "        g = list_of_graphs[i]\n",
    "        weights = np.array(copy.deepcopy(g.es[\"weight\"]))\n",
    "        f.write(str(round(g.diameter(), 2) ) + \",\")\n",
    "        f.write(str(round(g.density(), 2) ) + \",\")\n",
    "        f.write(str(round(g.average_path_length(), 2) ) + \",\")\n",
    "        f.write(str(round(g.reciprocity(), 2) ) + \",\")\n",
    "        f.write(str(round(g.transitivity_undirected(), 2) ) + \",\")\n",
    "        f.write(str(round(np.mean(g.transitivity_local_undirected(mode=\"zero\"))\\\n",
    "                , 2) ) + \",\")\n",
    "        f.write(str(round(sum(weights)) ) + \"\\n\")\n",
    "    f.close()"
   ]
  },
  {
   "cell_type": "code",
   "execution_count": 46,
   "metadata": {},
   "outputs": [
    {
     "name": "stdout",
     "output_type": "stream",
     "text": [
      "2008\n",
      "2009\n",
      "2010\n",
      "2011\n",
      "2012\n",
      "2013\n",
      "2014\n",
      "2015\n",
      "2016\n"
     ]
    }
   ],
   "source": [
    "#export_path_csv = \"csv_structuralmeasurements/\"\n",
    "for Year in [2008 + i for i in range(9)]:\n",
    "    print(Year)\n",
    "    G_list, G_nm, G_adj = make_graphs(Year)\n",
    "    G_agg = make_agg_graph_local(Year)[0]\n",
    "    G_list_plus_agg = G_list + [G_agg]\n",
    "    G_nm_plus_agg = G_nm + [\"Aggregated\"]\n",
    "    save_basic_measurements(Year, G_list_plus_agg, G_nm_plus_agg)"
   ]
  },
  {
   "cell_type": "markdown",
   "metadata": {},
   "source": [
    "### Distance between networks of different years"
   ]
  },
  {
   "cell_type": "markdown",
   "metadata": {},
   "source": [
    "### we need matrices with all the nodes, even the ones that were not reported in that year"
   ]
  },
  {
   "cell_type": "code",
   "execution_count": 47,
   "metadata": {},
   "outputs": [],
   "source": [
    "Year = 2016"
   ]
  },
  {
   "cell_type": "code",
   "execution_count": 48,
   "metadata": {},
   "outputs": [],
   "source": [
    "df = pd.read_stata(data_path)\n",
    "df = df.sort_values(by=['country'])\n",
    "df = df.fillna(value = 0.)"
   ]
  },
  {
   "cell_type": "code",
   "execution_count": 49,
   "metadata": {},
   "outputs": [],
   "source": [
    "df;"
   ]
  },
  {
   "cell_type": "code",
   "execution_count": 50,
   "metadata": {},
   "outputs": [],
   "source": [
    "def make_cont_net_from_survey_year_all_countries(df, data, year):\n",
    "    all_years = [i for i in range(2008,2017)]\n",
    "    all_years.remove(year)\n",
    "    #print all_years\n",
    "    country = df[\"country\"]\n",
    "    countercountry = df[\"counterpart\"]\n",
    "    DF = df.copy()\n",
    "    DF.ix[df.year.isin(all_years), data] = 0\n",
    "    survey = DF[data]\n",
    "    edges, weight = mc.make_edge_list(countercountry,country, survey)\n",
    "    for i in range(len(weight)):\n",
    "        if weight[i] < 0:\n",
    "            weight[i] = 0\n",
    "    G = mc.make_graph_from_edge(edges, weight)\n",
    "   \n",
    "    return G\n"
   ]
  },
  {
   "cell_type": "code",
   "execution_count": 51,
   "metadata": {},
   "outputs": [],
   "source": [
    "def make_graphs_allnodes(y, norm = False):\n",
    "    '''Dimensions of matrices match even between years'''\n",
    "    df_copy = copy.deepcopy(df)\n",
    "    if norm == True:\n",
    "        df_copy[['CDIS_IADE', 'CDIS_IADE', 'CPIS_IAPE', 'CPIS_IAPD', 'loans_dep' ] ] *= 1./df_inflation[\"Inflation\"][y]\n",
    "    G_cd_equity_15 = make_cont_net_from_survey_year_all_countries(df_copy, \"CDIS_IADE\", y)\n",
    "    G_cd_debt_15 = make_cont_net_from_survey_year_all_countries(df_copy, \"CDIS_IADD\", y)\n",
    "    G_cp_equity_15 = make_cont_net_from_survey_year_all_countries(df_copy, \"CPIS_IAPE\", y)\n",
    "    G_cp_debt_15 = make_cont_net_from_survey_year_all_countries(df_copy, \"CPIS_IAPD\", y)\n",
    "    G_bis_15 = make_cont_net_from_survey_year_all_countries(df_copy, \"loans_dep\", y)\n",
    "    G_15_list = [G_cd_equity_15, G_cd_debt_15, G_cp_equity_15, G_cp_debt_15, G_bis_15  ]\n",
    "    G_names = [\"CDIS_equity\", \"CDIS_debt\", \"CPIS_equity\", \"CPIS_debt\", \"BIS\" ]\n",
    "    G_adjacency_15 = []\n",
    "    \n",
    "    for g in G_15_list:\n",
    "        G_adjacency_15.append(np.array((g.get_adjacency(attribute= \"weight\")).data))\n",
    "    #print G_15_list[0].vs[\"name\"][0]\n",
    "    return G_15_list, G_names, G_adjacency_15#, G_agg_2015"
   ]
  },
  {
   "cell_type": "code",
   "execution_count": 52,
   "metadata": {},
   "outputs": [],
   "source": [
    "def make_agg_graph(y, norm = False):\n",
    "    df_copy = copy.deepcopy(df)\n",
    "    if norm == True:\n",
    "        df_copy[['CDIS_IADE', 'CDIS_IADE', 'CPIS_IAPE', 'CPIS_IAPD', 'loans_dep' ] ] *= 1./df_inflation[\"Inflation\"][y]\n",
    "    G_cd_equity_15 = make_cont_net_from_survey_year_all_countries(df_copy, \"CDIS_IADE\", y)\n",
    "    G_cd_debt_15 = make_cont_net_from_survey_year_all_countries(df_copy, \"CDIS_IADD\", y)\n",
    "    G_cp_equity_15 = make_cont_net_from_survey_year_all_countries(df_copy, \"CPIS_IAPE\",y)\n",
    "    G_cp_debt_15 = make_cont_net_from_survey_year_all_countries(df_copy, \"CPIS_IAPD\", y)\n",
    "    G_bis_15 = make_cont_net_from_survey_year_all_countries(df_copy, \"loans_dep\", y)\n",
    "    G_15_list = [G_cd_equity_15, G_cd_debt_15, G_cp_equity_15, G_cp_debt_15, G_bis_15  ]\n",
    "    G_adjacency_15 = []\n",
    "    for g in G_15_list:\n",
    "        G_adjacency_15.append(np.array((g.get_adjacency(attribute= \"weight\")).data))\n",
    "\n",
    "    AM_agg_2015 = G_adjacency_15[0] + G_adjacency_15[1] + G_adjacency_15[2] + G_adjacency_15[3] + G_adjacency_15[4]\n",
    "    G_agg_2015 = igraph.Graph.Weighted_Adjacency(AM_agg_2015.tolist(), attr= \"weight\")\n",
    "    \n",
    "    return G_agg_2015, AM_agg_2015"
   ]
  },
  {
   "cell_type": "code",
   "execution_count": 53,
   "metadata": {},
   "outputs": [],
   "source": [
    "dict_survey_names = {0: \"CDIS-equity\", 1: \"CDIS-debt\",2: \"CPIS-equity\",3: \"CPIS-debt\",4: \"BIS\"}"
   ]
  },
  {
   "cell_type": "code",
   "execution_count": 56,
   "metadata": {},
   "outputs": [
    {
     "name": "stderr",
     "output_type": "stream",
     "text": [
      "D:\\data\\chengyu\\_GFF\\lib\\site-packages\\ipykernel_launcher.py:8: DeprecationWarning: \n",
      ".ix is deprecated. Please use\n",
      ".loc for label based indexing or\n",
      ".iloc for positional indexing\n",
      "\n",
      "See the documentation here:\n",
      "http://pandas.pydata.org/pandas-docs/stable/indexing.html#ix-indexer-is-deprecated\n",
      "  \n"
     ]
    }
   ],
   "source": [
    "name = \"AM4_all_nodes\"\n",
    "for y in range(2008,2017):\n",
    "    G_list, G_nm, G_adj = make_graphs_allnodes(y, norm = False)\n",
    "    for i in range(5):\n",
    "        survey_name = dict_survey_names[i]\n",
    "        np.savetxt(adj_matrix_path+name+survey_name+str(y)+\".csv\", G_adj[i], delimiter=\",\")"
   ]
  },
  {
   "cell_type": "code",
   "execution_count": 57,
   "metadata": {},
   "outputs": [
    {
     "name": "stderr",
     "output_type": "stream",
     "text": [
      "D:\\data\\chengyu\\_GFF\\lib\\site-packages\\ipykernel_launcher.py:8: DeprecationWarning: \n",
      ".ix is deprecated. Please use\n",
      ".loc for label based indexing or\n",
      ".iloc for positional indexing\n",
      "\n",
      "See the documentation here:\n",
      "http://pandas.pydata.org/pandas-docs/stable/indexing.html#ix-indexer-is-deprecated\n",
      "  \n"
     ]
    }
   ],
   "source": [
    "name = \"AM4_all_nodes_aggregate\"\n",
    "for y in range(2008,2017):\n",
    "    Ga_list, G_adj = make_agg_graph(y, norm = False)\n",
    "    np.savetxt(adj_matrix_path+name+str(y)+\".csv\", G_adj, delimiter=\",\")"
   ]
  },
  {
   "cell_type": "code",
   "execution_count": 58,
   "metadata": {},
   "outputs": [],
   "source": [
    "all_names = G_list[0].vs[\"name\"]"
   ]
  },
  {
   "cell_type": "code",
   "execution_count": 59,
   "metadata": {},
   "outputs": [
    {
     "data": {
      "text/plain": [
       "213"
      ]
     },
     "execution_count": 59,
     "metadata": {},
     "output_type": "execute_result"
    }
   ],
   "source": [
    "len( G_list[3].vs[\"name\"])"
   ]
  },
  {
   "cell_type": "code",
   "execution_count": 60,
   "metadata": {},
   "outputs": [
    {
     "data": {
      "text/plain": [
       "213"
      ]
     },
     "execution_count": 60,
     "metadata": {},
     "output_type": "execute_result"
    }
   ],
   "source": [
    "len(all_names)"
   ]
  },
  {
   "cell_type": "code",
   "execution_count": 61,
   "metadata": {},
   "outputs": [],
   "source": [
    "all_names = G_list[0].vs[\"name\"]\n",
    "all_names = [n.replace(',',' ') for n in all_names]\n",
    "f = open(adj_matrix_path+\"all_country_name4\"+\".csv\", \"w\")\n",
    "for i in all_names:\n",
    "    f.write(i+\"\\n\")\n",
    "f.close()"
   ]
  }
 ],
 "metadata": {
  "anaconda-cloud": {},
  "kernelspec": {
   "display_name": "Python 3",
   "language": "python",
   "name": "python3"
  },
  "language_info": {
   "codemirror_mode": {
    "name": "ipython",
    "version": 3
   },
   "file_extension": ".py",
   "mimetype": "text/x-python",
   "name": "python",
   "nbconvert_exporter": "python",
   "pygments_lexer": "ipython3",
   "version": "3.6.6"
  }
 },
 "nbformat": 4,
 "nbformat_minor": 1
}
